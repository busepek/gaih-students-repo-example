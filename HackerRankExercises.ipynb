{
  "nbformat": 4,
  "nbformat_minor": 0,
  "metadata": {
    "colab": {
      "name": "HackerRankExercises.ipynb",
      "provenance": [],
      "authorship_tag": "ABX9TyO6/FKq2Pg61+fA63WCI2+I",
      "include_colab_link": true
    },
    "kernelspec": {
      "name": "python3",
      "display_name": "Python 3"
    },
    "language_info": {
      "name": "python"
    }
  },
  "cells": [
    {
      "cell_type": "markdown",
      "metadata": {
        "id": "view-in-github",
        "colab_type": "text"
      },
      "source": [
        "<a href=\"https://colab.research.google.com/github/busepek/GlobalAIHubPythonCourse/blob/main/HackerRankExercises.ipynb\" target=\"_parent\"><img src=\"https://colab.research.google.com/assets/colab-badge.svg\" alt=\"Open In Colab\"/></a>"
      ]
    },
    {
      "cell_type": "code",
      "execution_count": 8,
      "metadata": {
        "colab": {
          "base_uri": "https://localhost:8080/"
        },
        "id": "wuf6bgtvN-Up",
        "outputId": "cbceb33f-31b6-49db-8222-a5e53a4a825e"
      },
      "outputs": [
        {
          "output_type": "stream",
          "name": "stdout",
          "text": [
            "6\n",
            "Weird\n"
          ]
        }
      ],
      "source": [
        "#Python If-Else\n",
        "n = int(input())\n",
        "if n % 2 == 1:\n",
        "    print(\"Weird\")\n",
        "elif n % 2 == 0 and (2 <= n <= 5):\n",
        "    print(\"Not Weird\")\n",
        "elif n % 2 == 0 and (6 <= n <= 20):\n",
        "    print(\"Weird\")\n",
        "elif n % 2 == 0 and n > 20:\n",
        "    print(\"Not Weird\") "
      ]
    },
    {
      "cell_type": "code",
      "source": [
        "#Division Problem\n",
        "a = int(input())\n",
        "b = int(input())\n",
        "print(a//b)\n",
        "print(a/b)"
      ],
      "metadata": {
        "id": "H_CJST82hhS0"
      },
      "execution_count": null,
      "outputs": []
    },
    {
      "cell_type": "code",
      "source": [
        "#Mutations\n",
        "def mutate_string(string, position, character):\n",
        "    l = list(string)\n",
        "    l[position] = character\n",
        "    print(l)\n",
        "    string = \"\".join(l)\n",
        "    return string\n",
        "\n",
        "mutate_string(\"abracadabra\", 5 , \"k\")"
      ],
      "metadata": {
        "colab": {
          "base_uri": "https://localhost:8080/",
          "height": 54
        },
        "id": "_xSA1UcjOMHB",
        "outputId": "4d9f40d5-5655-4e43-d783-b416b4ee2b53"
      },
      "execution_count": 2,
      "outputs": [
        {
          "output_type": "stream",
          "name": "stdout",
          "text": [
            "['a', 'b', 'r', 'a', 'c', 'k', 'd', 'a', 'b', 'r', 'a']\n"
          ]
        },
        {
          "output_type": "execute_result",
          "data": {
            "text/plain": [
              "'abrackdabra'"
            ],
            "application/vnd.google.colaboratory.intrinsic+json": {
              "type": "string"
            }
          },
          "metadata": {},
          "execution_count": 2
        }
      ]
    },
    {
      "cell_type": "code",
      "source": [
        "#Find a string\n",
        "def count_substring(string, sub_string):\n",
        "    counter = 0\n",
        "    for i in range(len(string)):\n",
        "        if string[i:i+len(sub_string)] == sub_string:\n",
        "            counter += 1\n",
        "    return counter\n",
        "count_substring(\"ABCDEFFABCGFABC\",\"ABC\")"
      ],
      "metadata": {
        "colab": {
          "base_uri": "https://localhost:8080/"
        },
        "id": "4xsa1RmMkQw0",
        "outputId": "f749bbce-26b0-4d34-8056-6c177cd9d1d7"
      },
      "execution_count": 32,
      "outputs": [
        {
          "output_type": "execute_result",
          "data": {
            "text/plain": [
              "3"
            ]
          },
          "metadata": {},
          "execution_count": 32
        }
      ]
    },
    {
      "cell_type": "code",
      "source": [
        "#Find the Runner - Not the solution!\n",
        "\n",
        "scores = [10, 20, 100, 100, 5, 50]\n",
        "count = 0\n",
        "x = max(scores)\n",
        "\n",
        "for i in scores:\n",
        "  max_score = max(scores)\n",
        "  scores.remove(max_score)\n",
        "  count +=1\n",
        "  if x == max_score:   \n",
        "    scores.remove(max_score)  \n",
        "  if count == 2:\n",
        "    print(max_score)"
      ],
      "metadata": {
        "colab": {
          "base_uri": "https://localhost:8080/"
        },
        "id": "1QUyJ5QqR7vs",
        "outputId": "cfa146d1-81ec-4d9d-d3d3-f934336e59f8"
      },
      "execution_count": 19,
      "outputs": [
        {
          "output_type": "stream",
          "name": "stdout",
          "text": [
            "1\n",
            "50\n"
          ]
        }
      ]
    }
  ]
}